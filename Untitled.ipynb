{
 "cells": [
  {
   "cell_type": "code",
   "execution_count": 8,
   "id": "e0222977",
   "metadata": {},
   "outputs": [
    {
     "name": "stdout",
     "output_type": "stream",
     "text": [
      "Finished.\n"
     ]
    },
    {
     "name": "stderr",
     "output_type": "stream",
     "text": [
      "[nltk_data] Downloading package brown to\n",
      "[nltk_data]     C:\\Users\\hp\\AppData\\Roaming\\nltk_data...\n",
      "[nltk_data]   Unzipping corpora\\brown.zip.\n",
      "[nltk_data] Downloading package punkt to\n",
      "[nltk_data]     C:\\Users\\hp\\AppData\\Roaming\\nltk_data...\n",
      "[nltk_data]   Unzipping tokenizers\\punkt.zip.\n",
      "[nltk_data] Downloading package wordnet to\n",
      "[nltk_data]     C:\\Users\\hp\\AppData\\Roaming\\nltk_data...\n",
      "[nltk_data] Downloading package averaged_perceptron_tagger to\n",
      "[nltk_data]     C:\\Users\\hp\\AppData\\Roaming\\nltk_data...\n",
      "[nltk_data]   Unzipping taggers\\averaged_perceptron_tagger.zip.\n",
      "[nltk_data] Downloading package conll2000 to\n",
      "[nltk_data]     C:\\Users\\hp\\AppData\\Roaming\\nltk_data...\n",
      "[nltk_data]   Unzipping corpora\\conll2000.zip.\n",
      "[nltk_data] Downloading package movie_reviews to\n",
      "[nltk_data]     C:\\Users\\hp\\AppData\\Roaming\\nltk_data...\n",
      "[nltk_data]   Unzipping corpora\\movie_reviews.zip.\n"
     ]
    }
   ],
   "source": [
    "!python -m textblob.download_corpora\n"
   ]
  },
  {
   "cell_type": "code",
   "execution_count": 5,
   "id": "ae592d35",
   "metadata": {},
   "outputs": [
    {
     "data": {
      "text/html": [
       "<div>\n",
       "<style scoped>\n",
       "    .dataframe tbody tr th:only-of-type {\n",
       "        vertical-align: middle;\n",
       "    }\n",
       "\n",
       "    .dataframe tbody tr th {\n",
       "        vertical-align: top;\n",
       "    }\n",
       "\n",
       "    .dataframe thead th {\n",
       "        text-align: right;\n",
       "    }\n",
       "</style>\n",
       "<table border=\"1\" class=\"dataframe\">\n",
       "  <thead>\n",
       "    <tr style=\"text-align: right;\">\n",
       "      <th></th>\n",
       "      <th>full_text</th>\n",
       "    </tr>\n",
       "  </thead>\n",
       "  <tbody>\n",
       "    <tr>\n",
       "      <th>0</th>\n",
       "      <td>antv udah bener gini aja ketimbang nayangin fi...</td>\n",
       "    </tr>\n",
       "    <tr>\n",
       "      <th>1</th>\n",
       "      <td>film horror indonesia makin keren sihh</td>\n",
       "    </tr>\n",
       "    <tr>\n",
       "      <th>2</th>\n",
       "      <td>menurut gue kalau indonesia mau bikin ini sbg ...</td>\n",
       "    </tr>\n",
       "    <tr>\n",
       "      <th>3</th>\n",
       "      <td>orang indonesia bilangnya bosen film horror at...</td>\n",
       "    </tr>\n",
       "    <tr>\n",
       "      <th>4</th>\n",
       "      <td>dreamyvv banget salah satu film horror indones...</td>\n",
       "    </tr>\n",
       "  </tbody>\n",
       "</table>\n",
       "</div>"
      ],
      "text/plain": [
       "                                           full_text\n",
       "0  antv udah bener gini aja ketimbang nayangin fi...\n",
       "1            film horror indonesia makin keren sihh \n",
       "2  menurut gue kalau indonesia mau bikin ini sbg ...\n",
       "3  orang indonesia bilangnya bosen film horror at...\n",
       "4  dreamyvv banget salah satu film horror indones..."
      ]
     },
     "execution_count": 5,
     "metadata": {},
     "output_type": "execute_result"
    }
   ],
   "source": [
    "import pandas as pd\n",
    "\n",
    "# Load the provided Excel file\n",
    "file_path = 'clean_filmindo23.xlsx'\n",
    "data = pd.read_excel(file_path)\n",
    "\n",
    "# Display the first few rows of the dataframe to understand its structure\n",
    "data.head()\n"
   ]
  },
  {
   "cell_type": "code",
   "execution_count": 9,
   "id": "e30aba66",
   "metadata": {},
   "outputs": [
    {
     "data": {
      "text/html": [
       "<div>\n",
       "<style scoped>\n",
       "    .dataframe tbody tr th:only-of-type {\n",
       "        vertical-align: middle;\n",
       "    }\n",
       "\n",
       "    .dataframe tbody tr th {\n",
       "        vertical-align: top;\n",
       "    }\n",
       "\n",
       "    .dataframe thead th {\n",
       "        text-align: right;\n",
       "    }\n",
       "</style>\n",
       "<table border=\"1\" class=\"dataframe\">\n",
       "  <thead>\n",
       "    <tr style=\"text-align: right;\">\n",
       "      <th></th>\n",
       "      <th>full_text</th>\n",
       "      <th>sentiment</th>\n",
       "    </tr>\n",
       "  </thead>\n",
       "  <tbody>\n",
       "    <tr>\n",
       "      <th>0</th>\n",
       "      <td>antv udah bener gini aja ketimbang nayangin fi...</td>\n",
       "      <td>Neutral</td>\n",
       "    </tr>\n",
       "    <tr>\n",
       "      <th>1</th>\n",
       "      <td>film horror indonesia makin keren sihh</td>\n",
       "      <td>Neutral</td>\n",
       "    </tr>\n",
       "    <tr>\n",
       "      <th>2</th>\n",
       "      <td>menurut gue kalau indonesia mau bikin ini sbg ...</td>\n",
       "      <td>Neutral</td>\n",
       "    </tr>\n",
       "    <tr>\n",
       "      <th>3</th>\n",
       "      <td>orang indonesia bilangnya bosen film horror at...</td>\n",
       "      <td>Neutral</td>\n",
       "    </tr>\n",
       "    <tr>\n",
       "      <th>4</th>\n",
       "      <td>dreamyvv banget salah satu film horror indones...</td>\n",
       "      <td>Neutral</td>\n",
       "    </tr>\n",
       "  </tbody>\n",
       "</table>\n",
       "</div>"
      ],
      "text/plain": [
       "                                           full_text sentiment\n",
       "0  antv udah bener gini aja ketimbang nayangin fi...   Neutral\n",
       "1            film horror indonesia makin keren sihh    Neutral\n",
       "2  menurut gue kalau indonesia mau bikin ini sbg ...   Neutral\n",
       "3  orang indonesia bilangnya bosen film horror at...   Neutral\n",
       "4  dreamyvv banget salah satu film horror indones...   Neutral"
      ]
     },
     "execution_count": 9,
     "metadata": {},
     "output_type": "execute_result"
    }
   ],
   "source": [
    "from textblob import TextBlob\n",
    "\n",
    "# Function to classify sentiment\n",
    "def analyze_sentiment(text):\n",
    "    analysis = TextBlob(text)\n",
    "    # set sentiment \n",
    "    if analysis.sentiment.polarity > 0:\n",
    "        return 'Positive'\n",
    "    elif analysis.sentiment.polarity == 0:\n",
    "        return 'Neutral'\n",
    "    else:\n",
    "        return 'Negative'\n",
    "\n",
    "# Apply sentiment analysis on the 'full_text' column\n",
    "data['sentiment'] = data['full_text'].apply(analyze_sentiment)\n",
    "\n",
    "# Display the first few rows with sentiment\n",
    "data.head()\n"
   ]
  },
  {
   "cell_type": "code",
   "execution_count": 12,
   "id": "21b66992",
   "metadata": {},
   "outputs": [
    {
     "ename": "NameError",
     "evalue": "name 'neutral_texts' is not defined",
     "output_type": "error",
     "traceback": [
      "\u001b[1;31m---------------------------------------------------------------------------\u001b[0m",
      "\u001b[1;31mNameError\u001b[0m                                 Traceback (most recent call last)",
      "Cell \u001b[1;32mIn[12], line 7\u001b[0m\n\u001b[0;32m      4\u001b[0m negative_file_path \u001b[38;5;241m=\u001b[39m \u001b[38;5;124m'\u001b[39m\u001b[38;5;124mnegative_texts.txt\u001b[39m\u001b[38;5;124m'\u001b[39m\n\u001b[0;32m      6\u001b[0m \u001b[38;5;28;01mwith\u001b[39;00m \u001b[38;5;28mopen\u001b[39m(neutral_file_path, \u001b[38;5;124m'\u001b[39m\u001b[38;5;124mw\u001b[39m\u001b[38;5;124m'\u001b[39m, encoding\u001b[38;5;241m=\u001b[39m\u001b[38;5;124m'\u001b[39m\u001b[38;5;124mutf-8\u001b[39m\u001b[38;5;124m'\u001b[39m) \u001b[38;5;28;01mas\u001b[39;00m file:\n\u001b[1;32m----> 7\u001b[0m     file\u001b[38;5;241m.\u001b[39mwrite(\u001b[38;5;124m'\u001b[39m\u001b[38;5;130;01m\\n\u001b[39;00m\u001b[38;5;124m'\u001b[39m\u001b[38;5;241m.\u001b[39mjoin(\u001b[43mneutral_texts\u001b[49m))\n\u001b[0;32m      9\u001b[0m \u001b[38;5;28;01mwith\u001b[39;00m \u001b[38;5;28mopen\u001b[39m(positive_file_path, \u001b[38;5;124m'\u001b[39m\u001b[38;5;124mw\u001b[39m\u001b[38;5;124m'\u001b[39m, encoding\u001b[38;5;241m=\u001b[39m\u001b[38;5;124m'\u001b[39m\u001b[38;5;124mutf-8\u001b[39m\u001b[38;5;124m'\u001b[39m) \u001b[38;5;28;01mas\u001b[39;00m file:\n\u001b[0;32m     10\u001b[0m     file\u001b[38;5;241m.\u001b[39mwrite(\u001b[38;5;124m'\u001b[39m\u001b[38;5;130;01m\\n\u001b[39;00m\u001b[38;5;124m'\u001b[39m\u001b[38;5;241m.\u001b[39mjoin(positive_texts))\n",
      "\u001b[1;31mNameError\u001b[0m: name 'neutral_texts' is not defined"
     ]
    }
   ],
   "source": [
    "# Saving the texts to separate files\n",
    "neutral_file_path = 'neutral_texts.txt'\n",
    "positive_file_path = 'positive_texts.txt'\n",
    "negative_file_path = 'negative_texts.txt'\n",
    "\n",
    "with open(neutral_file_path, 'w', encoding='utf-8') as file:\n",
    "    file.write('\\n'.join(neutral_texts))\n",
    "\n",
    "with open(positive_file_path, 'w', encoding='utf-8') as file:\n",
    "    file.write('\\n'.join(positive_texts))\n",
    "\n",
    "with open(negative_file_path, 'w', encoding='utf-8') as file:\n",
    "    file.write('\\n'.join(negative_texts))\n",
    "\n",
    "neutral_file_path, positive_file_path, negative_file_path\n"
   ]
  },
  {
   "cell_type": "code",
   "execution_count": 15,
   "id": "4464761e",
   "metadata": {},
   "outputs": [
    {
     "data": {
      "text/plain": [
       "'tes.txt'"
      ]
     },
     "execution_count": 15,
     "metadata": {},
     "output_type": "execute_result"
    }
   ],
   "source": [
    "import pandas as pd\n",
    "from textblob import TextBlob\n",
    "\n",
    "# Load the Excel file\n",
    "file_path = 'clean_filmindo23.xlsx'\n",
    "data = pd.read_excel(file_path)\n",
    "\n",
    "# Function to classify sentiment\n",
    "def classify_sentiment(text):\n",
    "    analysis = TextBlob(text)\n",
    "    # Set thresholds for sentiments\n",
    "    if analysis.sentiment.polarity > 0.1:\n",
    "        return 'Positive'\n",
    "    elif analysis.sentiment.polarity < -0.1:\n",
    "        return 'Negative'\n",
    "    else:\n",
    "        return 'Neutral'\n",
    "\n",
    "# Apply the function to the dataframe\n",
    "data['sentiment'] = data['full_text'].apply(classify_sentiment)\n",
    "\n",
    "# Grouping the data by sentiment and listing the texts\n",
    "sentiment_groups = data.groupby('sentiment')['full_text'].apply(list)\n",
    "\n",
    "# Getting the texts for each sentiment category\n",
    "neutral_texts = sentiment_groups.get('Neutral', [])\n",
    "positive_texts = sentiment_groups.get('Positive', [])\n",
    "negative_texts = sentiment_groups.get('Negative', [])\n",
    "\n",
    "# Saving the texts to a single file with their corresponding sentiment labels\n",
    "combined_file_path = 'tes.txt'\n",
    "\n",
    "with open(combined_file_path, 'w', encoding='utf-8') as file:\n",
    "    file.write(\"Neutral Texts:\\n\")\n",
    "    file.write('\\n'.join(neutral_texts))\n",
    "    file.write(\"\\n\\nPositive Texts:\\n\")\n",
    "    file.write('\\n'.join(positive_texts))\n",
    "    file.write(\"\\n\\nNegative Texts:\\n\")\n",
    "    file.write('\\n'.join(negative_texts))\n",
    "\n",
    "combined_file_path"
   ]
  },
  {
   "cell_type": "code",
   "execution_count": 17,
   "id": "5d4a97ef",
   "metadata": {},
   "outputs": [
    {
     "data": {
      "image/png": "[encoded data removed]",
      "text/plain": [
       "<Figure size 800x600 with 1 Axes>"
      ]
     },
     "metadata": {},
     "output_type": "display_data"
    }
   ],
   "source": [
    "import matplotlib.pyplot as plt\n",
    "\n",
    "len_neutral = len(neutral_texts)\n",
    "len_positive = len(positive_texts)\n",
    "len_negative = len(negative_texts)\n",
    "\n",
    "# Data for plotting\n",
    "sentiment_counts = [len_neutral, len_positive, len_negative]\n",
    "sentiment_labels = ['Neutral', 'Positive', 'Negative']\n",
    "\n",
    "# Creating the pie chart\n",
    "plt.figure(figsize=(8, 6))\n",
    "plt.pie(sentiment_counts, labels=sentiment_labels, autopct='%1.1f%%', startangle=140)\n",
    "plt.title('Distribution of Sentiments in Texts')\n",
    "plt.axis('equal')  # Equal aspect ratio ensures the pie chart is circular.\n",
    "\n",
    "# Show the plot\n",
    "plt.show()"
   ]
  },
  {
   "cell_type": "code",
   "execution_count": null,
   "id": "52ef1551",
   "metadata": {},
   "outputs": [],
   "source": []
  }
 ],
 "metadata": {
  "kernelspec": {
   "display_name": "Python 3 (ipykernel)",
   "language": "python",
   "name": "python3"
  },
  "language_info": {
   "codemirror_mode": {
    "name": "ipython",
    "version": 3
   },
   "file_extension": ".py",
   "mimetype": "text/x-python",
   "name": "python",
   "nbconvert_exporter": "python",
   "pygments_lexer": "ipython3",
   "version": "3.10.12"
  }
 },
 "nbformat": 4,
 "nbformat_minor": 5
}
